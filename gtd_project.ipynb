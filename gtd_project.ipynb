The objective of this project is to analyze the Global Terrorism Database for the purpose of developing a machine learning algorithm to predict the groupname responsible for the terrorist attacks.
